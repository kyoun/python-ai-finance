{
 "cells": [
  {
   "cell_type": "code",
   "execution_count": 1,
   "id": "bf0bad76-812b-4b29-8447-e1946cf196bc",
   "metadata": {},
   "outputs": [
    {
     "name": "stdout",
     "output_type": "stream",
     "text": [
      "10 10\n",
      "[10 10]\n"
     ]
    }
   ],
   "source": [
    "import numpy as np\n",
    "\n",
    "# 오늘의 주식과 본드 가격\n",
    "S0 = 10\n",
    "B0 = 10\n",
    "print(S0,B0)\n",
    "\n",
    "# 마켓가격 벡터\n",
    "M0 = np.array((S0,B0))\n",
    "print(M0)"
   ]
  },
  {
   "cell_type": "code",
   "execution_count": 2,
   "id": "bbd3719c-d196-41e5-8bb4-d267446be06e",
   "metadata": {},
   "outputs": [
    {
     "name": "stdout",
     "output_type": "stream",
     "text": [
      "[20  5] [11 11]\n",
      "[[20 11]\n",
      " [ 5 11]]\n"
     ]
    }
   ],
   "source": [
    "# 내일은 주식과 본드가격 페이오프\n",
    "S1 = np.array((20,5))\n",
    "B1 = np.array((11,11))\n",
    "print(S1, B1)\n",
    "\n",
    "# 마켓 페이오프 매트릭스\n",
    "M1 = np.array((S1,B1)).T\n",
    "print(M1)"
   ]
  },
  {
   "cell_type": "code",
   "execution_count": 3,
   "id": "60f8c861-1a0d-429d-9bc4-76265ae6b22f",
   "metadata": {},
   "outputs": [
    {
     "data": {
      "text/plain": [
       "np.True_"
      ]
     },
     "execution_count": 3,
     "metadata": {},
     "output_type": "execute_result"
    }
   ],
   "source": [
    "# 베르누이 효용함수\n",
    "def u(x):\n",
    "  return np.sqrt(x)\n",
    "\n",
    "# 서로 다른 가중치를 가진 두 포트폴리오\n",
    "phi_A = np.array((0.75, 0.25))\n",
    "phi_D = np.array((0.25, 0.75))\n",
    "\n",
    "# 두 포트폴리오를 만드는 비용은 같음\n",
    "np.dot(M0, phi_A) == np.dot(M0, phi_D)"
   ]
  },
  {
   "cell_type": "code",
   "execution_count": 4,
   "id": "ecc9932d-4497-43e2-a051-9a06dad631d4",
   "metadata": {},
   "outputs": [
    {
     "name": "stdout",
     "output_type": "stream",
     "text": [
      "[17.75  6.5 ]\n",
      "[13.25  9.5 ]\n"
     ]
    }
   ],
   "source": [
    "# 포트폴리오 A의 페이오프\n",
    "A1 = np.dot(M1, phi_A)\n",
    "print(A1)\n",
    "\n",
    "# 포트폴리오 D의 페이오프\n",
    "D1 = np.dot(M1, phi_D)\n",
    "print(D1)"
   ]
  },
  {
   "cell_type": "code",
   "execution_count": 6,
   "id": "ce9ea9d9-d4e2-48df-9842-a76e1ee23126",
   "metadata": {},
   "outputs": [],
   "source": [
    "# 확률측도\n",
    "P = np.array((0.5, 0.5))\n",
    "\n",
    "# 기대효용함수\n",
    "def EUT(x):\n",
    "  return np.dot(P, u(x))"
   ]
  },
  {
   "cell_type": "code",
   "execution_count": 7,
   "id": "a1185039-6fe9-4e93-99d0-f39c5583cada",
   "metadata": {},
   "outputs": [
    {
     "name": "stdout",
     "output_type": "stream",
     "text": [
      "3.381292321692286\n",
      "3.3611309730623735\n"
     ]
    }
   ],
   "source": [
    "# D1``두 ``D1``페이오프의 효용치\n",
    "print(EUT(A1))\n",
    "print(EUT(D1))"
   ]
  },
  {
   "cell_type": "code",
   "execution_count": 8,
   "id": "7a3c839c-48a4-42f3-8a8c-effa52ff7ffc",
   "metadata": {},
   "outputs": [
    {
     "name": "stdout",
     "output_type": "stream",
     "text": [
      "[0.61122474 0.38877526]\n",
      "3.3850159994933975\n"
     ]
    }
   ],
   "source": [
    "from scipy.optimize import minimize\n",
    "\n",
    "# 고정된 예산\n",
    "w = 10\n",
    "\n",
    "# minimize 함수에 넣을 제한 조건\n",
    "cons = {'type':'eq', 'fun': lambda phi: np.dot(M0,phi) - w}\n",
    "\n",
    "# 포트폴리오에 대해 정의한 기대효용함수\n",
    "def EUT_(phi):\n",
    "  x = np.dot(M1, phi)\n",
    "  return EUT(x)\n",
    "\n",
    "\n",
    "opt = minimize(lambda phi: -EUT_(phi), # EUT_(phi)를 최대화하기 위해 -EUT(phi) 최소화\n",
    "               x0 = phi_A, # 초기값\n",
    "               constraints=cons) # 예산 제한 조건\n",
    "\n",
    "# x값과 최적 포트폴리오를 포함한 최적화결과\n",
    "max_phi = opt.x\n",
    "print(max_phi)\n",
    "\n",
    "opt_ = EUT_(opt['x']) # 예산 w=10에 대한 최적(최고) 기대효용\n",
    "print(opt_)"
   ]
  },
  {
   "cell_type": "code",
   "execution_count": 9,
   "id": "0efac780-e5f4-4327-b1f5-aa806beee576",
   "metadata": {},
   "outputs": [
    {
     "name": "stdout",
     "output_type": "stream",
     "text": [
      "[ 1.  -0.5]\n",
      "[0.1 0.1]\n",
      "기대확률: [0.5 0.5]\n",
      "위험자산  [ 1.  -0.5] 의 기대수익률: 0.25\n",
      "무위험자산  [0.1 0.1] 의 기대수익률: 0.10000000000000009\n",
      "수익률행렬\n",
      ": [[ 1.   0.1]\n",
      " [-0.5  0.1]]\n",
      "기대수익률벡터 [0.25 0.1 ]\n"
     ]
    }
   ],
   "source": [
    "\"\"\"포트폴리오 통계\"\"\"\n",
    "rS = S1 / S0 - 1 # 위험자산의 수익률 벡터\n",
    "print(rS)\n",
    "\n",
    "rB = B1 / B0 - 1 # 안전자산의 수익률 벡터\n",
    "print(rB)\n",
    "\n",
    "# 기대수익률함수\n",
    "def mu(rX):\n",
    "  return np.dot(P, rX)\n",
    "\n",
    "print(\"기대확률:\", P)\n",
    "print(\"위험자산 \",rS,\"의 기대수익률:\", mu(rS)) # 위험자산의 수익률 벡터\n",
    "print(\"무위험자산 \",rB,\"의 기대수익률:\", mu(rB)) # 무위험자산의 수익률 벡터\n",
    "\n",
    "rM = M1 / M0 - 1 # 수익률행렬\n",
    "print(\"수익률행렬\\n:\",rM)\n",
    "\n",
    "print(\"기대수익률벡터\", mu(rM)) # 기대 수익률 벡터"
   ]
  },
  {
   "cell_type": "code",
   "execution_count": 10,
   "id": "6348af39-20a4-4c83-b85b-6ccc76493718",
   "metadata": {},
   "outputs": [
    {
     "name": "stdout",
     "output_type": "stream",
     "text": [
      "기대수익률 [ 1.  -0.5] 의 분산:  0.5625\n",
      "기대수익률 [0.1 0.1] 의 분산:  0.0\n",
      "기대수익률 [ 1.  -0.5] 의 변동성:  0.75\n",
      "기대수익률 [0.1 0.1] 의 변동성:  0.0\n",
      "기대수익률벡터의 공분산 [[0.5625 0.    ]\n",
      " [0.     0.    ]]\n"
     ]
    }
   ],
   "source": [
    "\"\"\" 분산, 변동성, 공분산 행렬을 구한다. \"\"\"\n",
    "\n",
    "def var(rX): # 분산 함수\n",
    "  return ((rX - mu(rX)) ** 2).mean()\n",
    "\n",
    "print(\"기대수익률\", rS, \"의 분산: \", var(rS))\n",
    "print(\"기대수익률\", rB, \"의 분산: \", var(rB))\n",
    "\n",
    "\n",
    "def sigma(rX): # 변동성 함수\n",
    "  return np.sqrt(var(rX))\n",
    "\n",
    "print(\"기대수익률\", rS, \"의 변동성: \", sigma(rS))\n",
    "print(\"기대수익률\", rB, \"의 변동성: \", sigma(rB))\n",
    "\n",
    "cov = np.cov(rM.T, aweights=P, ddof=0) # 공분산 행렬\n",
    "print(\"기대수익률벡터의 공분산\", cov)"
   ]
  },
  {
   "cell_type": "code",
   "execution_count": 11,
   "id": "2862fbf1-4332-482d-8d5e-e574b664ba99",
   "metadata": {},
   "outputs": [
    {
     "name": "stdout",
     "output_type": "stream",
     "text": [
      "0.17500000000000004\n"
     ]
    }
   ],
   "source": [
    "\"\"\"모든 가중치가 같은 포트폴리오의 기대 수익률, 분산, 변동성 구하기\"\"\"\n",
    "\n",
    "phi = np.array((0.5, 0.5))\n",
    "\n",
    "# 포트폴리오의 기대수익률\n",
    "def mu_phi(phi):\n",
    "   return np.dot(phi, mu(rM)) # 포트폴리오 xx 기대수익률\n",
    "\n",
    "print(mu_phi(phi))\n",
    "\n",
    "# 포트폴리오 분산\n",
    "def var_phi(phi):\n",
    "  cv = np.cov(rM.T, aweights=P, ddof=0) #\n",
    "  return np.dot(phi, np.dot(cv, phi))\n",
    "\n"
   ]
  },
  {
   "cell_type": "code",
   "execution_count": null,
   "id": "e327a815-e1ad-4b9e-9dec-a13895a15b70",
   "metadata": {},
   "outputs": [],
   "source": []
  }
 ],
 "metadata": {
  "kernelspec": {
   "display_name": "Python 3 (ipykernel)",
   "language": "python",
   "name": "python3"
  },
  "language_info": {
   "codemirror_mode": {
    "name": "ipython",
    "version": 3
   },
   "file_extension": ".py",
   "mimetype": "text/x-python",
   "name": "python",
   "nbconvert_exporter": "python",
   "pygments_lexer": "ipython3",
   "version": "3.12.10"
  }
 },
 "nbformat": 4,
 "nbformat_minor": 5
}
